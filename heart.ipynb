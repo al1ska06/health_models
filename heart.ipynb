{
 "cells": [
  {
   "cell_type": "markdown",
   "id": "f21cee8d",
   "metadata": {},
   "source": [
    "This notebook relates to a new dataset, heart_data.csv, which offers characteristics such as gender, weight, height, smoking status, and activity levels to predict the risk of cardiovascular disease. \n",
    "\n",
    "These characteristics will be used in a logistic regression model that can hopefully predict whether or not someone is at risk of cardiovascular disease given these parameters"
   ]
  },
  {
   "cell_type": "code",
   "execution_count": 74,
   "id": "46730cd3",
   "metadata": {},
   "outputs": [],
   "source": [
    "import pandas as pd\n",
    "import numpy as np\n",
    "import seaborn as sns"
   ]
  },
  {
   "cell_type": "code",
   "execution_count": null,
   "id": "a540f821",
   "metadata": {},
   "outputs": [],
   "source": [
    "data = pd.read_csv(\"heart_data.csv\")\n",
    "data = data.drop(columns = ['index', 'id'])\n",
    "data[\"cardio\"] = data[\"cardio\"].astype(\"category\", copy = False)\n",
    "data[\"age\"] = data[\"age\"]/365 #days to years\n",
    "\n",
    "#drop the last 3 booleans if inexplicable issues arise"
   ]
  },
  {
   "cell_type": "markdown",
   "id": "eb10c809",
   "metadata": {},
   "source": [
    "After cleaning data, separating predictors & target"
   ]
  },
  {
   "cell_type": "code",
   "execution_count": 76,
   "id": "8371d9a5",
   "metadata": {},
   "outputs": [],
   "source": [
    "#target value is what we're guessing -- cardio\n",
    "y = data[\"cardio\"]\n",
    "\n",
    "#predictors support guessing y\n",
    "x = data.drop(columns = \"cardio\")"
   ]
  },
  {
   "cell_type": "code",
   "execution_count": 77,
   "id": "b14de274",
   "metadata": {},
   "outputs": [],
   "source": [
    "#normalizing data in order to correctly distribute importance across variables\n",
    "from sklearn.preprocessing import StandardScaler\n",
    "scaler = StandardScaler()\n",
    "x_scaled = scaler.fit_transform(x)\n"
   ]
  },
  {
   "cell_type": "code",
   "execution_count": 82,
   "id": "0292080b",
   "metadata": {},
   "outputs": [],
   "source": [
    "from sklearn.model_selection import train_test_split #simple way to split data into testing and non/testing\n",
    "\n",
    "xtrain, xtest, ytrain, ytest = train_test_split(x_scaled, y, test_size = 0.3, random_state = 42)"
   ]
  },
  {
   "cell_type": "markdown",
   "id": "9f266bf0",
   "metadata": {},
   "source": [
    "actual training yay!!!"
   ]
  },
  {
   "cell_type": "code",
   "execution_count": 83,
   "id": "e5160e60",
   "metadata": {},
   "outputs": [],
   "source": [
    "from sklearn.linear_model import LogisticRegression\n",
    "\n",
    "lr = LogisticRegression() #an instance of the regression class\n",
    "lr.fit(xtrain, ytrain) #the actual training\n",
    "\n",
    "ypred = lr.predict(xtest) #testing the now-trained model"
   ]
  },
  {
   "cell_type": "code",
   "execution_count": 85,
   "id": "9cccbad8",
   "metadata": {},
   "outputs": [
    {
     "name": "stdout",
     "output_type": "stream",
     "text": [
      "              precision    recall  f1-score   support\n",
      "\n",
      "           0       0.70      0.76      0.73     10461\n",
      "           1       0.74      0.68      0.71     10539\n",
      "\n",
      "    accuracy                           0.72     21000\n",
      "   macro avg       0.72      0.72      0.72     21000\n",
      "weighted avg       0.72      0.72      0.72     21000\n",
      "\n"
     ]
    }
   ],
   "source": [
    "#evaluating the model\n",
    "\n",
    "from sklearn.metrics import classification_report\n",
    "\n",
    "accuracy = classification_report(ytest, ypred)\n",
    "print (accuracy)"
   ]
  },
  {
   "cell_type": "markdown",
   "id": "f789bdd5",
   "metadata": {},
   "source": [
    "Using the model to predict specific hypothetical instances"
   ]
  }
 ],
 "metadata": {
  "kernelspec": {
   "display_name": "bmi_insure",
   "language": "python",
   "name": "python3"
  },
  "language_info": {
   "codemirror_mode": {
    "name": "ipython",
    "version": 3
   },
   "file_extension": ".py",
   "mimetype": "text/x-python",
   "name": "python",
   "nbconvert_exporter": "python",
   "pygments_lexer": "ipython3",
   "version": "3.10.18"
  }
 },
 "nbformat": 4,
 "nbformat_minor": 5
}
